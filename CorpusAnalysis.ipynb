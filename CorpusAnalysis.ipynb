{
 "cells": [
  {
   "cell_type": "code",
   "execution_count": 78,
   "metadata": {},
   "outputs": [],
   "source": [
    "import nltk\n",
    "from nltk.corpus import PlaintextCorpusReader\n",
    "from nltk.stem.porter import PorterStemmer\n",
    "from nltk import FreqDist  # Importing FreqDist"
   ]
  },
  {
   "cell_type": "code",
   "execution_count": 79,
   "metadata": {},
   "outputs": [],
   "source": [
    "def load_corpus():\n",
    "    # corpus_path = \"/Users/emmanueladegboyega/SDA 250 - FALL 2024/assignment1/corpus/\"\n",
    "    corpus_path = \"./corpus/\"\n",
    "    corpus = PlaintextCorpusReader(corpus_path, \".*\")\n",
    "    return corpus"
   ]
  },
  {
   "cell_type": "code",
   "execution_count": 80,
   "metadata": {},
   "outputs": [],
   "source": [
    "def get_length(subcorpus):\n",
    "    return len(subcorpus)"
   ]
  },
  {
   "cell_type": "code",
   "execution_count": 81,
   "metadata": {},
   "outputs": [],
   "source": [
    "def get_lexical_diversity(subcorpus):\n",
    "    return len(set(subcorpus)) / len(subcorpus)"
   ]
  },
  {
   "cell_type": "code",
   "execution_count": 82,
   "metadata": {},
   "outputs": [],
   "source": [
    "from nltk import FreqDist \n",
    "\n",
    "def get_top_ten_most_frequent_words(subcorpus):  # Function definition\n",
    "    # All lines inside the function must be indented\n",
    "    words = [word for word in subcorpus if word.isalpha()]\n",
    "    fdist = FreqDist(words)  # Create a frequency distribution of words in the subcorpus\n",
    "\n",
    "    # Get the 10 most common words and their counts\n",
    "    most_common_words = fdist.most_common(10)\n",
    "    \n",
    "    # Convert the list of tuples into a dictionary\n",
    "    return dict(most_common_words)"
   ]
  },
  {
   "cell_type": "code",
   "execution_count": 83,
   "metadata": {},
   "outputs": [],
   "source": [
    "from nltk import FreqDist\n",
    "\n",
    "def get_words_with_at_least_10_characters(subcorpus):\n",
    "    # Filter words that have at least 10 characters\n",
    "    long_words = [word for word in subcorpus if len(word) >= 10]\n",
    "    \n",
    "    # Create a frequency distribution of those words\n",
    "    fdist = FreqDist(long_words)\n",
    "\n",
    "    # We're only returning the first 10 since there are way too many\n",
    "    most_common = fdist.most_common(10)\n",
    "    \n",
    "    # Convert the frequency distribution to a dictionary and return it\n",
    "    return dict(most_common)"
   ]
  },
  {
   "cell_type": "code",
   "execution_count": 84,
   "metadata": {},
   "outputs": [],
   "source": [
    "def get_longest_sentence(corpus: PlaintextCorpusReader, subcorpus_filename: str):\n",
    "    sentences = corpus.sents(subcorpus_filename)\n",
    "    longest_sentence = max(sentences, key=len)\n",
    "    return longest_sentence"
   ]
  },
  {
   "cell_type": "code",
   "execution_count": 85,
   "metadata": {},
   "outputs": [],
   "source": [
    "def get_sentence_length(longest_sentence):\n",
    "    return len(longest_sentence)"
   ]
  },
  {
   "cell_type": "code",
   "execution_count": 86,
   "metadata": {},
   "outputs": [],
   "source": [
    "def get_sentence_stemmed(sentence: list[str]):\n",
    "    stemmer = PorterStemmer()\n",
    "    sentence_stemmed = [stemmer.stem(word) for word in sentence]\n",
    "    return sentence_stemmed"
   ]
  },
  {
   "cell_type": "code",
   "execution_count": 87,
   "metadata": {},
   "outputs": [],
   "source": [
    "def analyze(subcorpus_filename: str):\n",
    "    corpus = load_corpus()\n",
    "    subcorpus = corpus.words(subcorpus_filename)\n",
    "\n",
    "    print(\"\\033[1mAnalysis for\\033[0m\", subcorpus_filename)\n",
    "    print(\"\")\n",
    "\n",
    "    length = get_length(subcorpus)\n",
    "    print(\"\\033[1mLength:\\033[0m\", length)\n",
    "    print(\"\")\n",
    "\n",
    "    lexical_diversity = get_lexical_diversity(subcorpus)\n",
    "    print(\"\\033[1mLexical diversity:\\033[0m\", lexical_diversity)\n",
    "    print(\"\")\n",
    "\n",
    "    top_ten_most_frequent_words = get_top_ten_most_frequent_words(subcorpus)\n",
    "    print(\"\\033[1mTop 10 most frequent words:\\033[0m\")\n",
    "    for word in top_ten_most_frequent_words:\n",
    "        print(word, top_ten_most_frequent_words[word])\n",
    "    print(\"\")\n",
    "\n",
    "    words_with_at_least_10_characters = get_words_with_at_least_10_characters(subcorpus)\n",
    "    print(\"\\033[1mWords with at least 10 characters (top 10):\\033[0m\") \n",
    "    for word in words_with_at_least_10_characters:\n",
    "        print(word, words_with_at_least_10_characters[word])\n",
    "    print(\"\")\n",
    "    \n",
    "    longest_sentence = get_longest_sentence(corpus, subcorpus_filename)\n",
    "    longest_sentence_str = \" \".join(longest_sentence)\n",
    "    longest_sentence_length = get_sentence_length(longest_sentence)\n",
    "    print(\"\\033[1mLongest sentence:\\033[0m\", longest_sentence_str)\n",
    "    print(\"\\033[1mThe longest sentence is\\033[0m\", longest_sentence_length, \"words long\")\n",
    "    print(\"\")\n",
    "\n",
    "    longest_sentence_stemmed = get_sentence_stemmed(longest_sentence)\n",
    "    longest_sentence_stemmed_str = \" \".join(longest_sentence_stemmed)\n",
    "    print(\"\\033[1mLongest sentence stemmed:\\033[0m\", longest_sentence_stemmed_str)\n"
   ]
  },
  {
   "cell_type": "code",
   "execution_count": 88,
   "metadata": {},
   "outputs": [
    {
     "name": "stdout",
     "output_type": "stream",
     "text": [
      "\u001b[1mAnalysis for\u001b[0m text_spok.txt\n",
      "\n",
      "\u001b[1mLength:\u001b[0m 1294949\n",
      "\n",
      "\u001b[1mLexical diversity:\u001b[0m 0.025391733574063536\n",
      "\n",
      "\u001b[1mTop 10 most frequent words:\u001b[0m\n",
      "the 38047\n",
      "to 25177\n",
      "of 19615\n",
      "a 18867\n",
      "and 17712\n",
      "that 17657\n",
      "I 17457\n",
      "you 13997\n",
      "in 13810\n",
      "s 13559\n",
      "\n",
      "\u001b[1mWords with at least 10 characters:\u001b[0m\n",
      "government 586\n",
      "Washington 412\n",
      "Republican 333\n",
      "everything 320\n",
      "Republicans 301\n",
      "understand 293\n",
      "administration 290\n",
      "UNIDENTIFIED 247\n",
      "information 195\n",
      "investigation 179\n",
      "\n",
      "\u001b[1mLongest sentence:\u001b[0m They ' ve allowed Missouri to say that for incompetent persons who have not left absolutely clear and explicit instructions that Missouri may say that the only thing that matters is that they live longer and that as long as we can keep them living longer , we must , even if it means suffering , even if it means travail for the @ @ @ @ @ @ @ @ @ @ terrible pain , it does n ' t matter , Missouri may say that preservation of life is it , and then they can make a procedural standard that guarantees that almost everyone ends up in that category , and if the standard is clear and convincing evidence and Missouri chooses to interpret that fairly narrowly , then you have to be able to forecast how you will be dying and what kinds of medical situations will arise and explicitly speak to those , or you wo n ' t reach the standard , thereupon physicians and others providing care can be required to torment people for the simple lack of foresight to have been able to predict things that are thoroughly unpredictable .\n",
      "\u001b[1mThe longest sentence is\u001b[0m 197 words long\n",
      "\n",
      "\u001b[1mLongest sentence stemmed:\u001b[0m they ' ve allow missouri to say that for incompet person who have not left absolut clear and explicit instruct that missouri may say that the onli thing that matter is that they live longer and that as long as we can keep them live longer , we must , even if it mean suffer , even if it mean travail for the @ @ @ @ @ @ @ @ @ @ terribl pain , it doe n ' t matter , missouri may say that preserv of life is it , and then they can make a procedur standard that guarante that almost everyon end up in that categori , and if the standard is clear and convinc evid and missouri choos to interpret that fairli narrowli , then you have to be abl to forecast how you will be die and what kind of medic situat will aris and explicitli speak to those , or you wo n ' t reach the standard , thereupon physician and other provid care can be requir to torment peopl for the simpl lack of foresight to have been abl to predict thing that are thoroughli unpredict .\n",
      "============================================================================================================================================\n",
      "\u001b[1mAnalysis for\u001b[0m text_fic.txt\n",
      "\n",
      "\u001b[1mLength:\u001b[0m 1486536\n",
      "\n",
      "\u001b[1mLexical diversity:\u001b[0m 0.031059456346835865\n",
      "\n",
      "\u001b[1mTop 10 most frequent words:\u001b[0m\n",
      "the 51733\n",
      "and 27835\n",
      "to 26733\n",
      "a 24478\n",
      "I 21666\n",
      "of 21465\n",
      "in 14583\n",
      "was 13924\n",
      "s 11749\n",
      "p 10864\n",
      "\n",
      "\u001b[1mWords with at least 10 characters:\u001b[0m\n",
      "everything 391\n",
      "understand 223\n",
      "themselves 195\n",
      "Chrysostom 149\n",
      "screentalk 144\n",
      "remembered 134\n",
      "especially 124\n",
      "neighborhood 114\n",
      "immediately 112\n",
      "conversation 107\n",
      "\n",
      "\u001b[1mLongest sentence:\u001b[0m She wants to go back to Kalgoorlie , to the big , wide street , looking down from her hotel room and to lie down with Sebastian next to her Not quite Casey Jones my little grandpa ( to distinguish from grandma ' s father big grandpa ) early engineered the Baltimore &; Ohio steam engines passing behind our Painesville house he often took me on rides sat me in the high steel seat near him the Iron Horse throwing a ribbony white steam @ @ @ @ @ @ @ @ @ @ towers landscapes whizzing to sides as he reached into stacked woodpile behind open cab feeding the eating red furnace choo chooing me through childhood ride over carried home in sooty arms he always hung his striped railroad cap about railroads the correct password on a hook at the back screen door he talked repetitively of a single memory later retired from tracks continuing of his own hard - of - hearing engineer father at the new Diamond Alkali cut in half by a silent engine synthetic rayon plant until lantern - walking the centre of a railyard track toxic smoke took his lungs officials woke his mother at three am he sat in the windowed verandah to take her out to the cut body of the old Owego Street house filling my little grandpa hearing brown pipes mostly silent everything from beneath his cover until a buzzing grandkid would ask this worn story coupled directly to the great skipping - record nightmare he was plagued with for years until he died the big nigger with the axe , Joey as he said chasing him down the night after senility had severed his mind little grandpa sat in his @ @ @ @ @ @ @ @ @ @ laughing hands like wind knocking off the long - faded striped cap sitting in wonder in his seat watching with smoky eyes his great - grandchildren now choo chooing him off .\n",
      "\u001b[1mThe longest sentence is\u001b[0m 334 words long\n",
      "\n",
      "\u001b[1mLongest sentence stemmed:\u001b[0m she want to go back to kalgoorli , to the big , wide street , look down from her hotel room and to lie down with sebastian next to her not quit casey jone my littl grandpa ( to distinguish from grandma ' s father big grandpa ) earli engin the baltimor &; ohio steam engin pass behind our painesvil hous he often took me on ride sat me in the high steel seat near him the iron hors throw a ribboni white steam @ @ @ @ @ @ @ @ @ @ tower landscap whizz to side as he reach into stack woodpil behind open cab feed the eat red furnac choo choo me through childhood ride over carri home in sooti arm he alway hung hi stripe railroad cap about railroad the correct password on a hook at the back screen door he talk repetit of a singl memori later retir from track continu of hi own hard - of - hear engin father at the new diamond alkali cut in half by a silent engin synthet rayon plant until lantern - walk the centr of a railyard track toxic smoke took hi lung offici woke hi mother at three am he sat in the window verandah to take her out to the cut bodi of the old owego street hous fill my littl grandpa hear brown pipe mostli silent everyth from beneath hi cover until a buzz grandkid would ask thi worn stori coupl directli to the great skip - record nightmar he wa plagu with for year until he die the big nigger with the axe , joey as he said chase him down the night after senil had sever hi mind littl grandpa sat in hi @ @ @ @ @ @ @ @ @ @ laugh hand like wind knock off the long - fade stripe cap sit in wonder in hi seat watch with smoki eye hi great - grandchildren now choo choo him off .\n",
      "============================================================================================================================================\n",
      "\u001b[1mAnalysis for\u001b[0m text_news.txt\n",
      "\n",
      "\u001b[1mLength:\u001b[0m 1523873\n",
      "\n",
      "\u001b[1mLexical diversity:\u001b[0m 0.03825056287499024\n",
      "\n",
      "\u001b[1mTop 10 most frequent words:\u001b[0m\n",
      "the 53026\n",
      "to 27216\n",
      "and 26815\n",
      "of 26270\n",
      "a 25913\n",
      "p 25623\n",
      "in 20008\n",
      "s 12304\n",
      "that 10938\n",
      "for 10043\n",
      "\n",
      "\u001b[1mWords with at least 10 characters:\u001b[0m\n",
      "government 543\n",
      "University 444\n",
      "Washington 431\n",
      "information 274\n",
      "California 266\n",
      "Department 241\n",
      "everything 213\n",
      "experience 211\n",
      "especially 209\n",
      "administration 200\n",
      "\n",
      "\u001b[1mLongest sentence:\u001b[0m White ( Beiter kick ) , 8 : 42 @ @ @ @ @ @ @ @ @ @ , 0 : 16 --- Timberland 7 28 21 0 56 FH North 7 7 7 0 21 F : Keely 20 run ( Connell kick ) , 8 : 00 T : Johnson 10 run ( Rowe kick ) , 3 : 10 T : Schaeffer 18 pass from Jehle ( Rowe kick ) , 10 : 45 T : Freed 2 run ( Rowe kick ) , 10 : 15 T : Johnson 55 punt return ( Rowe kick ) , 9 : 10 T : Schaeffer 40 pass from Jehle ( Rowe kick ) , 6 : 53 F : Bacon 15 pass from Lieser ( Connell kick ) , 4 : 04 T : Johnson 71 pass from Jehle ( Rowe kick ) , 9 : 59 F : Hawkins 20 pass from Lieser ( Connell kick ) , 6 : 14 T : Dennis 20 run ( Rowe kick ) , 5 : 00 T : Onwubiko 13 run ( Rowe kick ) , 1 : 42 --- St . Mary ' s 0 11 0 0 11 Borgia 14 14 7 14 49 B : Jones 20 run ( Grellner kick ) , 9 : 58 B : Baylard 1 run ( Grellner kick ) , 0 : 35 S : Rapisardo 34 FG @ @ @ @ @ @ @ @ @ @ ) , 1 : 09 S : W . Pratt 95 kickoff return ( Beile run ) , 0 : 55 B : Raftery 28 pass from Baylard ( Grellner kick ) , 0 : 28 B : Snider 39 pass from Baylard ( Grellner kick ) , 5 : 05 B : Voss 6 run ( Grellner kick ) , 11 : 11 B : Kuddes 28 interception ( Grellner kick ) , 10 : 56 --- Ritenour 6 6 6 0 18 Kirkwood 7 10 14 14 45 K : Lowry fumble recovery in end zone ( Higginbotham kick ) , 10 : 12 R : Jackson 2 run ( kick failed ) , 4 : 03 K : Higginbotham 27 FG , 11 : 18 K : Alton 19 run ( Higginbotham kick ) , 6 : 01 R : Jackson 67 pass from McCoy ( pass failed ) , 1 : 56 K : Scott 9 pass from Hadler ( Higginbotham kick ) , 7 : 19 R : McCoy 13 run ( pass failed ) , 3 : 19 K : Goddard 6 run ( Higginbotham kick ) , 1 : 50 K : Chery 1 run ( Higginbotham kick ) , 10 : 11 K : Daras 11 run ( Higginbotham kick ) , 6 : 14 @ @ @ @ @ @ @ @ @ @ 0 7 6 0 13 L : B . Scales 51 pass from C . Scales ( Reynolds kick ) , 9 : 58 L : Perry 5 run ( Reynolds kick ) , 9 : 55 L : B . Scales 20 pass from C . Scales ( Reynolds kick ) , 6 : 11 L : Paul 36 pass from C . Scales ( Reynolds kick ) , 3 : 38 P : Dalton 13 pass from Sprague ( Owens kick ) , 0 : 43 L : Waeckerle 15 pass from C . Scales ( Reynolds kick ) , 7 : 27 P : Dalton 22 pass from Sprague ( kick failed ) , 2 : 26 L : Richardson 16 pass from C . Scales ( Reynolds kick ) , 0 : 00 --- Lindbergh 14 0 0 0 14 Fox 0 0 0 0 0 L : Offner 28 run ( Offner kick ) , 5 : 13 L : Washington 15 run ( Offner kick ) , 3 : 02 --- Pattonville 2 0 3 6 11 Summit 7 3 0 3 13 P : safety , 9 : 56 S : Pennington 4 run ( Kappler kick ) , 6 : 58 S : Alaimo 39 FG , 0 : 04 P : Blankenship 36 FG @ @ @ @ @ @ @ @ @ @ ) , 10 : 04 S : Kappler 31 FG , 0 : 34 --- Collinsville 0 0 0 9 9 O ' Fallon 0 21 10 0 31 O : Gettis 1 run ( McCann kick ) , 11 : 55 O : Cooper 5 run ( McCann kick ) , 5 : 20 O : Spearman 28 run ( McCann kick ) , 0 : 01 O : McCann 27 FG , 9 : 22 O : Gettis 1 run ( McCann kick ) , 5 : 45 C : Wellmaker 73 run ( DeAnde kick ) , 8 : 41 C : safety , 6 : 08 --- FZ West 14 10 14 7 45 Troy 0 0 7 0 7 F : Staskewicz 1 run ( Stanczak kick ) , 8 : 02 F : Bruce 1 run ( Stanczak kick ) , 3 : 41 F : Stanczak 27 FG , 7 : 38 F : Andersen 7 pass from C . Brown ( Stanczak kick ) , 1 : 11 F : J . Strauss 1 pass from C . Brown ( Stanczak kick ) , 9 : 00 T : Caves 56 pass from Wurtz ( McKenna kick ) , 4 : 56 F : Staskewicz 20 run ( Stanczak kick ) , 3 : 06 F : J . Strauss @ @ @ @ @ @ @ @ @ @ 13 21 0 0 34 Grandview 0 7 0 0 7 J : Govro 3 run ( kick failed ) , 8 : 32 J : Govro 3 run ( Bowman kick ) , 3 : 21 J : Graves 1 run ( Bowman kick ) , 10 : 54 G : Mitchem 5 run ( Villmar kick ) , 7 : 19 J : Williams 28 pass from Graves ( Bowman kick ) , 6 : 10 J : Govro 1 run ( Bowman kick ) , 0 : 22 --- Freeburg 0 7 7 7 21 Columbia 3 7 14 7 31 C : Long 33 FG , 0 : 04 F : Wolf 1 run ( Kimes kick ) , 10 : 14 C : Isringhaus 9 run ( Long kick ) , 6 : 19 C : Isringhaus 24 pass from Hill ( Long kick ) , 4 : 41 F : Wolf 3 run ( Kimes kick ) , 1 : 35 C : Isringhaus 15 run ( Long kick ) , 0 : 36 C : Wagner 1 run ( Long kick ) , 2 : 49 F : Wolf 6 run ( Kimes kick ) , 1 : 34 --- Lift For Life 0 16 6 0 22 Brentwood 35 13 @ @ @ @ @ @ @ @ @ @ Koster run ) , 10 : 00 B : Jacob Clay 1 run ( Bax kick ) , 7 : 45 B : Jacob Clay 30 run ( Bax kick ) , 5 : 05 B : Koster 1 run ( Bax kick ) , 4 : 49 B : Jenkins 18 run ( kick failed ) , 2 : 00 B : Brown 4 run ( Bax kick ) , 8 : 32 L : Moorehead 85 kickoff return ( Glover run ) , 8 : 21 B : Jacob Clay 11 run ( kick failed ) , 0 : 44 L : Sayles 70 kickoff return ( Bolden run ) , 0 : 32 B : Jenkins 10 run ( Bax kick ) , 10 : 08 L : Sayles 85 kickoff return ( run failed ) , 9 : 55 B : Jacob Clay 29 run ( Bax kick ) , 8 : 51 --- Festus 0 18 14 7 39 Pacific 7 7 0 0 14 P : Parrish 20 pass from Roberts ( M . Broam kick ) , 7 : 20 F : Reddick 5 run ( kick failed ) , 8 : 38 P : Zurliene 90 kickoff return ( M . Broam kick ) , 8 : 25 F : Perkins 71 run ( @ @ @ @ @ @ @ @ @ @ ( run failed ) , 0 : 25 F : Reddick 14 run ( kick failed ) , 8 : 57 F : Wilkes 22 run ( Reddick run ) , 8 : 31 F : Reddick 2 run ( Hayden kick ) , 5 : 42 --- Trinity 0 6 0 8 14 DuBourg 14 14 14 7 49 D : Green 3 run ( Leiendecker kick ) , 9 : 30 D : Buck 6 run ( Leiendecker kick ) , 3 : 13 D : M . Warren 5 run ( run failed ) , 9 : 08 T : Trice 43 pass from ( pass failed ) , 7 : 00 D : S . Kayser 1 fumble recovery ( Ron Warren pass from Kinney ) , 4 : 13 D : Green 8 run ( Leiendecker kick ) , 9 : 15 D : Davis 8 run ( Leiendecker kick ) , 2 : 48 D : Kinney 28 run ( Leiendecker kick ) , 8 : 22 T : 54 run ( run ) , 2 : 47 --- Breese C . 7 13 8 8 36 Red Bud 6 16 0 0 22 B : Dunning 15 run ( Haselhorst kick ) , 10 : 05 R : Fadler 50 fumble recovery ( pass @ @ @ @ @ @ @ @ @ @ Kueker pass from Fadler ) , 9 : 31 B : Timmons 1 run ( Haselhorst kick ) , 6 : 29 B : Timmons 4 run ( kick failed ) , 4 : 32 R : Nagel 3 fumble recovery ( Fadler run ) , 0 : 15 B : Dunning 5 run ( Caleb Thomas pass from Dunning ) , 5 : 56 B : Timmons 8 run ( pass failed ) , 10 : 46 B : safety , 2 : 50 --- Warrenton 21 19 7 0 47 Winfield 0 0 0 6 6 W : Tonioli 51 pass from Chmiel ( Lopez kick ) , 9 : 43 W : Chmiel 29 run ( Mayfield kick ) , 7 : 34 W : Chmiel 4 run ( Lopez kick ) , 6 : 32 W : Logan 3 run ( kick failed ) , 11 : 07 W : Russell 22 pass from Chmiel ( run failed ) , 7 : 35 W : Logan 2 run ( Mayfield kick ) , 2 : 06 W : Crump 32 pass from Chmiel ( Lopez kick ) , 9 : 11 Wfd : Bauer 13 pass from Cagle ( run failed ) , 5 : 28 --- St . Charles 0 0 0 0 0 Orchard Farm @ @ @ @ @ @ @ @ @ @ ( Westerfeld kick ) , 0 : 22 O : Keely 15 run ( Westerfeld kick ) , 6 : 02 O : Keely 15 run ( kick failed ) , 3 : 17 O : Hughes 20 run ( C . Kline kick ) , 1 : 15 --- AREA SCORES Missouri Affton 47 , Normandy 0 Borgia 49 , St . Mary ' s 11 Bowling Green 41 , Mark Twain 6 Brentwood 62 , Lift For Life 22 Cape Girardeau Central 55 , Farmington 13 Cardinal Ritter 30 , Duchesne 16 Carnahan 2 , Sumner 0 CBC 49 , SLUH 16 Dexter 28 , New Madrid County Central 19 DuBourg 49 , Trinity 14 Festus 39 , Pacific 14 Fort Zumwalt East 62 , Washington 35 Fort Zumwalt North 32 , Holt 20 Fort Zumwalt West 45 , Troy Buchanan 7 Francis Howell 49 , Francis Howell Central 6 Gateway STEM 46 , Vashon 14 Herculaneum 34 , Crystal City 14 Hermann 38 , St . Clair 0 Hillsboro 50 , De Soto 6 Jackson 42 , Sikeston 0 Jefferson 34 , Grandview 7 Jefferson City 48 , Confluence 6 John Burroughs 28 , Westminster 7 Kirkwood 45 , @ @ @ @ @ @ @ @ @ @ , Parkway South 13 Liberty ( Wentzville ) 19 , Barat 0 Lindbergh 14 , Fox 0 Lutheran North 37 , MICDS 35 Mehlville 32 , Northwest Cedar Hill 26 Mexico 47 , Kirksville 13 North Callaway 36 , Clopton 8 O ' Fallon Christian 41 , Kennedy 0 Oakville 55 , Seckman 14 Orchard Farm 27 , St . Charles 0 Poplar Bluff 48 , Maplewood - RH 20 St . Dominic 35 , Lutheran St . Charles 14 St . Pius X 33 , St . Vincent 28 Ste .\n",
      "\u001b[1mThe longest sentence is\u001b[0m 2179 words long\n",
      "\n",
      "\u001b[1mLongest sentence stemmed:\u001b[0m white ( beiter kick ) , 8 : 42 @ @ @ @ @ @ @ @ @ @ , 0 : 16 --- timberland 7 28 21 0 56 fh north 7 7 7 0 21 f : keeli 20 run ( connel kick ) , 8 : 00 t : johnson 10 run ( row kick ) , 3 : 10 t : schaeffer 18 pass from jehl ( row kick ) , 10 : 45 t : freed 2 run ( row kick ) , 10 : 15 t : johnson 55 punt return ( row kick ) , 9 : 10 t : schaeffer 40 pass from jehl ( row kick ) , 6 : 53 f : bacon 15 pass from lieser ( connel kick ) , 4 : 04 t : johnson 71 pass from jehl ( row kick ) , 9 : 59 f : hawkin 20 pass from lieser ( connel kick ) , 6 : 14 t : denni 20 run ( row kick ) , 5 : 00 t : onwubiko 13 run ( row kick ) , 1 : 42 --- st . mari ' s 0 11 0 0 11 borgia 14 14 7 14 49 b : jone 20 run ( grellner kick ) , 9 : 58 b : baylard 1 run ( grellner kick ) , 0 : 35 s : rapisardo 34 fg @ @ @ @ @ @ @ @ @ @ ) , 1 : 09 s : w . pratt 95 kickoff return ( beil run ) , 0 : 55 b : rafteri 28 pass from baylard ( grellner kick ) , 0 : 28 b : snider 39 pass from baylard ( grellner kick ) , 5 : 05 b : voss 6 run ( grellner kick ) , 11 : 11 b : kudd 28 intercept ( grellner kick ) , 10 : 56 --- ritenour 6 6 6 0 18 kirkwood 7 10 14 14 45 k : lowri fumbl recoveri in end zone ( higginbotham kick ) , 10 : 12 r : jackson 2 run ( kick fail ) , 4 : 03 k : higginbotham 27 fg , 11 : 18 k : alton 19 run ( higginbotham kick ) , 6 : 01 r : jackson 67 pass from mccoy ( pass fail ) , 1 : 56 k : scott 9 pass from hadler ( higginbotham kick ) , 7 : 19 r : mccoy 13 run ( pass fail ) , 3 : 19 k : goddard 6 run ( higginbotham kick ) , 1 : 50 k : cheri 1 run ( higginbotham kick ) , 10 : 11 k : dara 11 run ( higginbotham kick ) , 6 : 14 @ @ @ @ @ @ @ @ @ @ 0 7 6 0 13 l : b . scale 51 pass from c . scale ( reynold kick ) , 9 : 58 l : perri 5 run ( reynold kick ) , 9 : 55 l : b . scale 20 pass from c . scale ( reynold kick ) , 6 : 11 l : paul 36 pass from c . scale ( reynold kick ) , 3 : 38 p : dalton 13 pass from spragu ( owen kick ) , 0 : 43 l : waeckerl 15 pass from c . scale ( reynold kick ) , 7 : 27 p : dalton 22 pass from spragu ( kick fail ) , 2 : 26 l : richardson 16 pass from c . scale ( reynold kick ) , 0 : 00 --- lindbergh 14 0 0 0 14 fox 0 0 0 0 0 l : offner 28 run ( offner kick ) , 5 : 13 l : washington 15 run ( offner kick ) , 3 : 02 --- pattonvil 2 0 3 6 11 summit 7 3 0 3 13 p : safeti , 9 : 56 s : pennington 4 run ( kappler kick ) , 6 : 58 s : alaimo 39 fg , 0 : 04 p : blankenship 36 fg @ @ @ @ @ @ @ @ @ @ ) , 10 : 04 s : kappler 31 fg , 0 : 34 --- collinsvil 0 0 0 9 9 o ' fallon 0 21 10 0 31 o : getti 1 run ( mccann kick ) , 11 : 55 o : cooper 5 run ( mccann kick ) , 5 : 20 o : spearman 28 run ( mccann kick ) , 0 : 01 o : mccann 27 fg , 9 : 22 o : getti 1 run ( mccann kick ) , 5 : 45 c : wellmak 73 run ( deand kick ) , 8 : 41 c : safeti , 6 : 08 --- fz west 14 10 14 7 45 troy 0 0 7 0 7 f : staskewicz 1 run ( stanczak kick ) , 8 : 02 f : bruce 1 run ( stanczak kick ) , 3 : 41 f : stanczak 27 fg , 7 : 38 f : andersen 7 pass from c . brown ( stanczak kick ) , 1 : 11 f : j . strauss 1 pass from c . brown ( stanczak kick ) , 9 : 00 t : cave 56 pass from wurtz ( mckenna kick ) , 4 : 56 f : staskewicz 20 run ( stanczak kick ) , 3 : 06 f : j . strauss @ @ @ @ @ @ @ @ @ @ 13 21 0 0 34 grandview 0 7 0 0 7 j : govro 3 run ( kick fail ) , 8 : 32 j : govro 3 run ( bowman kick ) , 3 : 21 j : grave 1 run ( bowman kick ) , 10 : 54 g : mitchem 5 run ( villmar kick ) , 7 : 19 j : william 28 pass from grave ( bowman kick ) , 6 : 10 j : govro 1 run ( bowman kick ) , 0 : 22 --- freeburg 0 7 7 7 21 columbia 3 7 14 7 31 c : long 33 fg , 0 : 04 f : wolf 1 run ( kime kick ) , 10 : 14 c : isringhau 9 run ( long kick ) , 6 : 19 c : isringhau 24 pass from hill ( long kick ) , 4 : 41 f : wolf 3 run ( kime kick ) , 1 : 35 c : isringhau 15 run ( long kick ) , 0 : 36 c : wagner 1 run ( long kick ) , 2 : 49 f : wolf 6 run ( kime kick ) , 1 : 34 --- lift for life 0 16 6 0 22 brentwood 35 13 @ @ @ @ @ @ @ @ @ @ koster run ) , 10 : 00 b : jacob clay 1 run ( bax kick ) , 7 : 45 b : jacob clay 30 run ( bax kick ) , 5 : 05 b : koster 1 run ( bax kick ) , 4 : 49 b : jenkin 18 run ( kick fail ) , 2 : 00 b : brown 4 run ( bax kick ) , 8 : 32 l : moorehead 85 kickoff return ( glover run ) , 8 : 21 b : jacob clay 11 run ( kick fail ) , 0 : 44 l : sayl 70 kickoff return ( bolden run ) , 0 : 32 b : jenkin 10 run ( bax kick ) , 10 : 08 l : sayl 85 kickoff return ( run fail ) , 9 : 55 b : jacob clay 29 run ( bax kick ) , 8 : 51 --- festu 0 18 14 7 39 pacif 7 7 0 0 14 p : parrish 20 pass from robert ( m . broam kick ) , 7 : 20 f : reddick 5 run ( kick fail ) , 8 : 38 p : zurlien 90 kickoff return ( m . broam kick ) , 8 : 25 f : perkin 71 run ( @ @ @ @ @ @ @ @ @ @ ( run fail ) , 0 : 25 f : reddick 14 run ( kick fail ) , 8 : 57 f : wilk 22 run ( reddick run ) , 8 : 31 f : reddick 2 run ( hayden kick ) , 5 : 42 --- triniti 0 6 0 8 14 dubourg 14 14 14 7 49 d : green 3 run ( leiendeck kick ) , 9 : 30 d : buck 6 run ( leiendeck kick ) , 3 : 13 d : m . warren 5 run ( run fail ) , 9 : 08 t : trice 43 pass from ( pass fail ) , 7 : 00 d : s . kayser 1 fumbl recoveri ( ron warren pass from kinney ) , 4 : 13 d : green 8 run ( leiendeck kick ) , 9 : 15 d : davi 8 run ( leiendeck kick ) , 2 : 48 d : kinney 28 run ( leiendeck kick ) , 8 : 22 t : 54 run ( run ) , 2 : 47 --- brees c . 7 13 8 8 36 red bud 6 16 0 0 22 b : dun 15 run ( haselhorst kick ) , 10 : 05 r : fadler 50 fumbl recoveri ( pass @ @ @ @ @ @ @ @ @ @ kueker pass from fadler ) , 9 : 31 b : timmon 1 run ( haselhorst kick ) , 6 : 29 b : timmon 4 run ( kick fail ) , 4 : 32 r : nagel 3 fumbl recoveri ( fadler run ) , 0 : 15 b : dun 5 run ( caleb thoma pass from dun ) , 5 : 56 b : timmon 8 run ( pass fail ) , 10 : 46 b : safeti , 2 : 50 --- warrenton 21 19 7 0 47 winfield 0 0 0 6 6 w : tonioli 51 pass from chmiel ( lopez kick ) , 9 : 43 w : chmiel 29 run ( mayfield kick ) , 7 : 34 w : chmiel 4 run ( lopez kick ) , 6 : 32 w : logan 3 run ( kick fail ) , 11 : 07 w : russel 22 pass from chmiel ( run fail ) , 7 : 35 w : logan 2 run ( mayfield kick ) , 2 : 06 w : crump 32 pass from chmiel ( lopez kick ) , 9 : 11 wfd : bauer 13 pass from cagl ( run fail ) , 5 : 28 --- st . charl 0 0 0 0 0 orchard farm @ @ @ @ @ @ @ @ @ @ ( westerfeld kick ) , 0 : 22 o : keeli 15 run ( westerfeld kick ) , 6 : 02 o : keeli 15 run ( kick fail ) , 3 : 17 o : hugh 20 run ( c . kline kick ) , 1 : 15 --- area score missouri affton 47 , normandi 0 borgia 49 , st . mari ' s 11 bowl green 41 , mark twain 6 brentwood 62 , lift for life 22 cape girardeau central 55 , farmington 13 cardin ritter 30 , duchesn 16 carnahan 2 , sumner 0 cbc 49 , sluh 16 dexter 28 , new madrid counti central 19 dubourg 49 , triniti 14 festu 39 , pacif 14 fort zumwalt east 62 , washington 35 fort zumwalt north 32 , holt 20 fort zumwalt west 45 , troy buchanan 7 franci howel 49 , franci howel central 6 gateway stem 46 , vashon 14 herculaneum 34 , crystal citi 14 hermann 38 , st . clair 0 hillsboro 50 , de soto 6 jackson 42 , sikeston 0 jefferson 34 , grandview 7 jefferson citi 48 , confluenc 6 john burrough 28 , westminst 7 kirkwood 45 , @ @ @ @ @ @ @ @ @ @ , parkway south 13 liberti ( wentzvil ) 19 , barat 0 lindbergh 14 , fox 0 lutheran north 37 , micd 35 mehlvil 32 , northwest cedar hill 26 mexico 47 , kirksvil 13 north callaway 36 , clopton 8 o ' fallon christian 41 , kennedi 0 oakvil 55 , seckman 14 orchard farm 27 , st . charl 0 poplar bluff 48 , maplewood - rh 20 st . domin 35 , lutheran st . charl 14 st . piu x 33 , st . vincent 28 ste .\n"
     ]
    }
   ],
   "source": [
    "# Replace this with the subcorpus filename you want to analyze\n",
    "analyze(\"text_spok.txt\")\n",
    "print(\"============================================================================================================================================\")\n",
    "analyze(\"text_fic.txt\")\n",
    "print(\"============================================================================================================================================\")\n",
    "analyze(\"text_news.txt\")"
   ]
  },
  {
   "cell_type": "code",
   "execution_count": null,
   "metadata": {},
   "outputs": [],
   "source": []
  }
 ],
 "metadata": {
  "kernelspec": {
   "display_name": "Python 3 (ipykernel)",
   "language": "python",
   "name": "python3"
  },
  "language_info": {
   "codemirror_mode": {
    "name": "ipython",
    "version": 3
   },
   "file_extension": ".py",
   "mimetype": "text/x-python",
   "name": "python",
   "nbconvert_exporter": "python",
   "pygments_lexer": "ipython3",
   "version": "3.12.4"
  }
 },
 "nbformat": 4,
 "nbformat_minor": 4
}
