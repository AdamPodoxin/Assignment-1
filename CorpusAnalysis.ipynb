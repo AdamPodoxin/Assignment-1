{
 "cells": [
  {
   "cell_type": "code",
   "execution_count": 62,
   "metadata": {},
   "outputs": [],
   "source": [
    "import nltk\n",
    "from nltk.corpus import PlaintextCorpusReader"
   ]
  },
  {
   "cell_type": "code",
   "execution_count": 63,
   "metadata": {},
   "outputs": [],
   "source": [
    "def load_corpus():\n",
    "    corpus_path = \"./corpus/\"\n",
    "    corpus = PlaintextCorpusReader(corpus_path, \".*\")\n",
    "    return corpus"
   ]
  },
  {
   "cell_type": "code",
   "execution_count": 64,
   "metadata": {},
   "outputs": [],
   "source": [
    "def get_length(subcorpus):\n",
    "    return len(subcorpus)"
   ]
  },
  {
   "cell_type": "code",
   "execution_count": 65,
   "metadata": {},
   "outputs": [],
   "source": [
    "def get_lexical_diversity(subcorpus):\n",
    "    # TODO: implement this\n",
    "    return 0"
   ]
  },
  {
   "cell_type": "code",
   "execution_count": 66,
   "metadata": {},
   "outputs": [],
   "source": [
    "def get_top_ten_most_frequent_words(subcorpus):\n",
    "    # TODO: implement this\n",
    "    return {\"word1\": 0, \"word2\": 0}"
   ]
  },
  {
   "cell_type": "code",
   "execution_count": 67,
   "metadata": {},
   "outputs": [],
   "source": [
    "def get_words_with_at_least_10_characters(subcorpus):\n",
    "    # TODO: implement this\n",
    "    return {\"abcdefghij\": 0, \"klmnopqrstuv\": 0}"
   ]
  },
  {
   "cell_type": "code",
   "execution_count": 68,
   "metadata": {},
   "outputs": [],
   "source": [
    "def get_longest_sentence(subcorpus):\n",
    "    # TODO: implement this\n",
    "    return \"sentence\""
   ]
  },
  {
   "cell_type": "code",
   "execution_count": 69,
   "metadata": {},
   "outputs": [],
   "source": [
    "def get_sentence_length(sentence: str):\n",
    "    # TODO: implement this\n",
    "    return 0"
   ]
  },
  {
   "cell_type": "code",
   "execution_count": 70,
   "metadata": {},
   "outputs": [],
   "source": [
    "def get_longest_sentence_stemmed(subcorpus):\n",
    "    # TODO: implement this\n",
    "    return \"sentence stemmed\""
   ]
  },
  {
   "cell_type": "code",
   "execution_count": 71,
   "metadata": {},
   "outputs": [],
   "source": [
    "def analyze(subcorpus_filename: str):\n",
    "    corpus = load_corpus()\n",
    "    subcorpus = corpus.words(subcorpus_filename)\n",
    "\n",
    "    length = get_length(subcorpus)\n",
    "    print(\"Length:\", length)\n",
    "    print(\"\")\n",
    "\n",
    "    lexical_diversity = get_lexical_diversity(subcorpus)\n",
    "    print(\"Lexical diversity:\", lexical_diversity)\n",
    "    print(\"\")\n",
    "\n",
    "    top_ten_most_frequent_words = get_top_ten_most_frequent_words(subcorpus)\n",
    "    print(\"Top 10 most frequent words:\")\n",
    "    for word in top_ten_most_frequent_words:\n",
    "        print(word, top_ten_most_frequent_words[word])\n",
    "    print(\"\")\n",
    "\n",
    "    words_with_at_least_10_characters = get_words_with_at_least_10_characters(subcorpus)\n",
    "    print(\"Words with at least 10 characters:\")\n",
    "    for word in words_with_at_least_10_characters:\n",
    "        print(word, words_with_at_least_10_characters[word])\n",
    "    print(\"\")\n",
    "    \n",
    "    longest_sentence = get_longest_sentence(subcorpus)\n",
    "    longest_sentence_length = get_sentence_length(longest_sentence)\n",
    "    print(\"Longest sentence:\", longest_sentence)\n",
    "    print(\"The longest sentence is\", longest_sentence_length, \"words long\")\n",
    "    print(\"\")\n",
    "\n",
    "    longest_sentence_stemmed = get_longest_sentence_stemmed(subcorpus)\n",
    "    print(\"Longest sentence stemmed:\", longest_sentence_stemmed)\n"
   ]
  },
  {
   "cell_type": "code",
   "execution_count": 72,
   "metadata": {},
   "outputs": [
    {
     "name": "stdout",
     "output_type": "stream",
     "text": [
      "Length: 1515655\n",
      "\n",
      "Lexical diversity: 0\n",
      "\n",
      "Top 10 most frequent words:\n",
      "word1 0\n",
      "word2 0\n",
      "\n",
      "Words with at least 10 characters:\n",
      "abcdefghij 0\n",
      "klmnopqrstuv 0\n",
      "\n",
      "Longest sentence: sentence\n",
      "The longest sentence is 0 words long\n",
      "\n",
      "Longest sentence stemmed: sentence stemmed\n"
     ]
    }
   ],
   "source": [
    "# Replace this with the subcorpus filename you want to analyze\n",
    "subcorpus_filename = \"text_acad.txt\"\n",
    "analyze(subcorpus_filename)"
   ]
  },
  {
   "cell_type": "code",
   "execution_count": null,
   "metadata": {},
   "outputs": [],
   "source": []
  }
 ],
 "metadata": {
  "kernelspec": {
   "display_name": "base",
   "language": "python",
   "name": "python3"
  },
  "language_info": {
   "codemirror_mode": {
    "name": "ipython",
    "version": 3
   },
   "file_extension": ".py",
   "mimetype": "text/x-python",
   "name": "python",
   "nbconvert_exporter": "python",
   "pygments_lexer": "ipython3",
   "version": "3.12.4"
  }
 },
 "nbformat": 4,
 "nbformat_minor": 2
}
